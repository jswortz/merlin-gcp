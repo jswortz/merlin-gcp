{
 "cells": [
  {
   "cell_type": "markdown",
   "id": "5dc2edcc-0110-49fb-af2c-573523cfd163",
   "metadata": {},
   "source": [
    "## Merlin Setup\n",
    "\n",
    "The goal of this notebook is to create a user-managed container that can be used in Vertex Workbench\n",
    "\n",
    "### Setup variables, paths, and create artifact registry"
   ]
  },
  {
   "cell_type": "code",
   "execution_count": null,
   "id": "87c816ff-9d3c-4ab8-8261-729590883965",
   "metadata": {
    "tags": []
   },
   "outputs": [],
   "source": [
    "VERSION=23.12 #nvcr.io/nvidia/merlin/merlin-pytorch:23.02\n",
    "REPO_NAME=\"workbench\"\n",
    "REGION=\"us-central1\"\n",
    "PROJECT=\"wortz-project-352116\" # TODO: update with your project_id\n",
    "IMAGE_ID=\"merlin-training\"\n",
    "MERLIN_IMAGE_NAME=f\"{REGION}-docker.pkg.dev/{PROJECT}/{REPO_NAME}/merlin-{IMAGE_ID}-{VERSION}\"\n",
    "\n",
    "MERLIN_CONTAINER=\"merlin_container\"\n",
    "\n",
    "!mkdir {MERLIN_CONTAINER}\n",
    "\n",
    "!gcloud beta artifacts repositories create {REPO_NAME} \\\n",
    "    --repository-format=docker \\\n",
    "    --location=$REGION"
   ]
  },
  {
   "cell_type": "code",
   "execution_count": null,
   "id": "e140c50a-bcb1-457e-ba29-eb53d1845c4e",
   "metadata": {
    "tags": []
   },
   "outputs": [],
   "source": [
    "!gcloud config set project $PROJECT"
   ]
  },
  {
   "cell_type": "markdown",
   "id": "555e0982-4f18-4875-83db-684ac1294797",
   "metadata": {},
   "source": [
    "#### Find your service account for you tenant project - usually project_id-compute@developer.gserviceaccount.com"
   ]
  },
  {
   "cell_type": "code",
   "execution_count": null,
   "id": "c65dd208-f334-4787-b258-3e4f1daf4aa4",
   "metadata": {
    "tags": []
   },
   "outputs": [],
   "source": [
    "# !gcloud projects add-iam-policy-binding hybrid-vertex --member=serviceAccount:xxxxxxxx-compute@developer.gserviceaccount.com --role=roles/artifactregistry.admin"
   ]
  },
  {
   "cell_type": "code",
   "execution_count": null,
   "id": "d6dd4fc6-7582-4446-9736-7aaca439041d",
   "metadata": {
    "tags": []
   },
   "outputs": [],
   "source": [
    "!gcloud auth configure-docker us-central1-docker.pkg.dev --quiet"
   ]
  },
  {
   "cell_type": "markdown",
   "id": "3611080d-03c2-4760-8069-c49d10cbd580",
   "metadata": {},
   "source": [
    "### Create Docker image derived from Deeplearning containers"
   ]
  },
  {
   "cell_type": "code",
   "execution_count": null,
   "id": "044ab9f5-53da-481e-9dec-8475e4ffa265",
   "metadata": {
    "tags": []
   },
   "outputs": [],
   "source": [
    "%%writefile {MERLIN_CONTAINER}/jupyter_notebook_config.py\n",
    "c.NotebookApp.ip = '*'\n",
    "c.NotebookApp.token = ''\n",
    "c.NotebookApp.password = ''\n",
    "c.NotebookApp.open_browser = False\n",
    "c.NotebookApp.port = 8080\n",
    "c.NotebookApp.terminado_settings = {'shell_command': ['/bin/bash']}\n",
    "c.NotebookApp.allow_origin_pat = (\n",
    "'(^https://8080-dot-[0-9]+-dot-devshell\\.appspot\\.com$)|'\n",
    "'(^https://colab\\.research\\.google\\.com$)|'\n",
    "'((https?://)?[0-9a-z]+-dot-(?:us|asia|europe|northamerica|southamerica)-?[0-9a-z]+\\.notebooks\\.googleusercontent.com)')\n",
    "c.NotebookApp.allow_remote_access = True\n",
    "c.NotebookApp.disable_check_xsrf = False"
   ]
  },
  {
   "cell_type": "code",
   "execution_count": null,
   "id": "6fe56e1a-8514-4f1c-b7ff-545e4cdcf98b",
   "metadata": {
    "tags": []
   },
   "outputs": [],
   "source": [
    "%%writefile {MERLIN_CONTAINER}/Dockerfile\n",
    "FROM nvcr.io/nvidia/merlin/merlin-tensorflow:23.12\n",
    "\n",
    "# RUN echo \"deb [signed-by=/usr/share/keyrings/cloud.google.gpg] http://packages.cloud.google.com/apt cloud-sdk main\" | tee -a /etc/apt/sources.list.d/google-cloud-sdk.list && curl https://packages.cloud.google.com/apt/doc/apt-key.gpg | apt-key --keyring /usr/share/keyrings/cloud.google.gpg  add - && apt-get update -y && apt-get install google-cloud-sdk -y\n",
    "EXPOSE 8080\n",
    "\n",
    "# copy the dependencies file to the working directory\n",
    "COPY merlin_container/requirements.txt .\n",
    "\n",
    "# RUN export GCSFUSE_REPO=gcsfuse-$(lsb_release -c -s) && \\\n",
    "#     echo ${GCSFUSE_REPO} && \\\n",
    "#     ( echo \"deb http://packages.cloud.google.com/apt ${GCSFUSE_REPO} main\" \\\n",
    "#       | tee /etc/apt/sources.list.d/gcsfuse.list ) && \\\n",
    "#     more /etc/apt/sources.list.d/gcsfuse.list && \\\n",
    "#     ( curl https://packages.cloud.google.com/apt/doc/apt-key.gpg \\\n",
    "#       | apt-key add - )\n",
    "\n",
    "# RUN apt update && apt -y install gcsfuse\n",
    "\n",
    "\n",
    "# install dependencies\n",
    "# RUN apt-get install nodejs npm -y\n",
    "# RUN pip install -r requirements.txt\n",
    "#RUN mkdir /root/.jupyter\n",
    "             \n",
    "COPY merlin_container/jupyter_notebook_config.py /root/.jupyter\n",
    "\n",
    "ENV pwd=\"\"\n",
    "ENTRYPOINT exec jupyter-lab --ip=0.0.0.0 --port=8080 --no-browser --allow-root --ServerApp.allow_origin=\"*\" --NotebookApp.token=\"$pwd\" --NotebookApp.password=\"$pwd\""
   ]
  },
  {
   "cell_type": "code",
   "execution_count": null,
   "id": "6069640d-5e22-417e-b305-92921863c5f1",
   "metadata": {
    "tags": []
   },
   "outputs": [],
   "source": [
    "%%writefile {MERLIN_CONTAINER}/requirements.txt\n",
    "fastapi\n",
    "merlin-models\n",
    "gsutil\n",
    "gcsfs\n",
    "matplotlib\n",
    "google-cloud-aiplatform\n",
    "jupyterlab-git"
   ]
  },
  {
   "cell_type": "markdown",
   "id": "59b174f8-1b64-4798-9f94-948873c8cf97",
   "metadata": {},
   "source": [
    "### Quick option for running on cloud build"
   ]
  },
  {
   "cell_type": "code",
   "execution_count": null,
   "id": "2d6daf3f-8cfa-41a8-b59d-0474aab318c5",
   "metadata": {
    "tags": []
   },
   "outputs": [],
   "source": [
    "# !gcloud builds submit $MERLIN_CONTAINER --dir $MERLIN_CONTAINER -t $MERLIN_IMAGE_NAME\n",
    "# !gcloud push $MERLIN_IMAGE_NAME"
   ]
  },
  {
   "cell_type": "markdown",
   "id": "244331d7-f48b-4d11-9ac2-15e4b504686c",
   "metadata": {},
   "source": [
    "#### Or build locally and push"
   ]
  },
  {
   "cell_type": "code",
   "execution_count": null,
   "id": "80035d6e-1067-4bb0-8d4f-5df2d970a979",
   "metadata": {
    "tags": []
   },
   "outputs": [],
   "source": [
    "!docker build . -f $MERLIN_CONTAINER/Dockerfile -t $MERLIN_IMAGE_NAME\n",
    "!docker push $MERLIN_IMAGE_NAME"
   ]
  },
  {
   "cell_type": "code",
   "execution_count": null,
   "id": "f66179ef-fd25-4c9c-8442-769306e5bc2a",
   "metadata": {},
   "outputs": [],
   "source": []
  }
 ],
 "metadata": {
  "environment": {
   "kernel": "conda-root-py",
   "name": "workbench-notebooks.m115",
   "type": "gcloud",
   "uri": "gcr.io/deeplearning-platform-release/workbench-notebooks:m115"
  },
  "kernelspec": {
   "display_name": "Python 3 (ipykernel) (Local)",
   "language": "python",
   "name": "conda-root-py"
  },
  "language_info": {
   "codemirror_mode": {
    "name": "ipython",
    "version": 3
   },
   "file_extension": ".py",
   "mimetype": "text/x-python",
   "name": "python",
   "nbconvert_exporter": "python",
   "pygments_lexer": "ipython3",
   "version": "3.10.13"
  }
 },
 "nbformat": 4,
 "nbformat_minor": 5
}
