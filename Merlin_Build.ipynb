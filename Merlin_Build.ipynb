{
 "cells": [
  {
   "cell_type": "markdown",
   "id": "5dc2edcc-0110-49fb-af2c-573523cfd163",
   "metadata": {},
   "source": [
    "## Merlin Setup\n",
    "\n",
    "The goal of this notebook is to create a user-managed container that can be used in Vertex Workbench\n",
    "\n",
    "### Setup variables, paths, and create artifact registry"
   ]
  },
  {
   "cell_type": "code",
   "execution_count": null,
   "id": "87c816ff-9d3c-4ab8-8261-729590883965",
   "metadata": {},
   "outputs": [],
   "source": [
    "REPO_NAME=\"workbench\"\n",
    "REGION=\"us-central1\"\n",
    "PROJECT=\"hybrid-vertex\" # TODO: update with your project_id\n",
    "IMAGE_ID=\"training\"\n",
    "MERLIN_IMAGE_NAME=f\"{REGION}-docker.pkg.dev/{PROJECT}/{REPO_NAME}/merlin-{IMAGE_ID}\"\n",
    "\n",
    "MERLIN_CONTAINER=\"merlin_container\"\n",
    "\n",
    "!mkdir {MERLIN_CONTAINER}\n",
    "\n",
    "!gcloud beta artifacts repositories create {REPO_NAME} \\\n",
    "    --repository-format=docker \\\n",
    "    --location=$REGION"
   ]
  },
  {
   "cell_type": "code",
   "execution_count": null,
   "id": "e140c50a-bcb1-457e-ba29-eb53d1845c4e",
   "metadata": {},
   "outputs": [],
   "source": [
    "!gcloud config set project $PROJECT"
   ]
  },
  {
   "cell_type": "markdown",
   "id": "555e0982-4f18-4875-83db-684ac1294797",
   "metadata": {},
   "source": [
    "#### Find your service account for you tenant project - usually project_id-compute@developer.gserviceaccount.com"
   ]
  },
  {
   "cell_type": "code",
   "execution_count": null,
   "id": "c65dd208-f334-4787-b258-3e4f1daf4aa4",
   "metadata": {
    "tags": []
   },
   "outputs": [],
   "source": [
    "# !gcloud projects add-iam-policy-binding hybrid-vertex --member=serviceAccount:xxxxxxxx-compute@developer.gserviceaccount.com --role=roles/artifactregistry.admin"
   ]
  },
  {
   "cell_type": "code",
   "execution_count": null,
   "id": "d6dd4fc6-7582-4446-9736-7aaca439041d",
   "metadata": {},
   "outputs": [],
   "source": [
    "!gcloud auth configure-docker us-central1-docker.pkg.dev --quiet"
   ]
  },
  {
   "cell_type": "markdown",
   "id": "3611080d-03c2-4760-8069-c49d10cbd580",
   "metadata": {},
   "source": [
    "### Create Docker image derived from Deeplearning containers"
   ]
  },
  {
   "cell_type": "code",
   "execution_count": null,
   "id": "044ab9f5-53da-481e-9dec-8475e4ffa265",
   "metadata": {},
   "outputs": [],
   "source": [
    "%%writefile {MERLIN_CONTAINER}/jupyter_notebook_config.py\n",
    "c.NotebookApp.ip = '*'\n",
    "c.NotebookApp.token = ''\n",
    "c.NotebookApp.password = ''\n",
    "c.NotebookApp.open_browser = False\n",
    "c.NotebookApp.port = 8080\n",
    "c.NotebookApp.terminado_settings = {'shell_command': ['/bin/bash']}\n",
    "c.NotebookApp.allow_origin_pat = (\n",
    "'(^https://8080-dot-[0-9]+-dot-devshell\\.appspot\\.com$)|'\n",
    "'(^https://colab\\.research\\.google\\.com$)|'\n",
    "'((https?://)?[0-9a-z]+-dot-(?:us|asia|europe|northamerica|southamerica)-?[0-9a-z]+\\.notebooks\\.googleusercontent.com)')\n",
    "c.NotebookApp.allow_remote_access = True\n",
    "c.NotebookApp.disable_check_xsrf = False"
   ]
  },
  {
   "cell_type": "code",
   "execution_count": null,
   "id": "6fe56e1a-8514-4f1c-b7ff-545e4cdcf98b",
   "metadata": {},
   "outputs": [],
   "source": [
    "%%writefile {MERLIN_CONTAINER}/Dockerfile\n",
    "FROM nvcr.io/nvidia/merlin/merlin-training:22.04\n",
    "RUN echo \"deb [signed-by=/usr/share/keyrings/cloud.google.gpg] http://packages.cloud.google.com/apt cloud-sdk main\" | tee -a /etc/apt/sources.list.d/google-cloud-sdk.list && curl https://packages.cloud.google.com/apt/doc/apt-key.gpg | apt-key --keyring /usr/share/keyrings/cloud.google.gpg  add - && apt-get update -y && apt-get install google-cloud-sdk -y\n",
    "RUN pip install google-cloud-aiplatform google-cloud-pipeline-components google-cloud-bigquery-storage kfp ipykernel\n",
    "EXPOSE 8080\n",
    "             \n",
    "#RUN mkdir /root/.jupyter\n",
    "             \n",
    "COPY merlin_container/jupyter_notebook_config.py /root/.jupyter\n",
    "\n",
    "ENV pwd=\"\"\n",
    "ENTRYPOINT exec jupyter-lab --ip=0.0.0.0 --port=8080 --no-browser --allow-root --ServerApp.allow_origin=\"*\" --NotebookApp.token=\"$pwd\" --NotebookApp.password=\"$pwd\""
   ]
  },
  {
   "cell_type": "code",
   "execution_count": null,
   "id": "80035d6e-1067-4bb0-8d4f-5df2d970a979",
   "metadata": {
    "tags": []
   },
   "outputs": [],
   "source": [
    "!docker build . -f $MERLIN_CONTAINER/Dockerfile -t $MERLIN_IMAGE_NAME\n",
    "!docker push $MERLIN_IMAGE_NAME"
   ]
  },
  {
   "cell_type": "code",
   "execution_count": null,
   "id": "9bf3c17a-4dcc-418c-a457-3b81d9fe3a81",
   "metadata": {},
   "outputs": [],
   "source": []
  }
 ],
 "metadata": {
  "environment": {
   "kernel": "python3",
   "name": "tf2-gpu.2-9.m93",
   "type": "gcloud",
   "uri": "gcr.io/deeplearning-platform-release/tf2-gpu.2-9:m93"
  },
  "kernelspec": {
   "display_name": "Python 3",
   "language": "python",
   "name": "python3"
  },
  "language_info": {
   "codemirror_mode": {
    "name": "ipython",
    "version": 3
   },
   "file_extension": ".py",
   "mimetype": "text/x-python",
   "name": "python",
   "nbconvert_exporter": "python",
   "pygments_lexer": "ipython3",
   "version": "3.7.12"
  }
 },
 "nbformat": 4,
 "nbformat_minor": 5
}
