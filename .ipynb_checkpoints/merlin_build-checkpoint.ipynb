{
 "cells": [
  {
   "cell_type": "markdown",
   "id": "5dc2edcc-0110-49fb-af2c-573523cfd163",
   "metadata": {},
   "source": [
    "## Merlin Setup\n",
    "\n",
    "The goal of this notebook is to create a user-managed container that can be used in Vertex Workbench\n",
    "\n",
    "### Setup variables, paths, and create artifact registry"
   ]
  },
  {
   "cell_type": "code",
   "execution_count": 1,
   "id": "87c816ff-9d3c-4ab8-8261-729590883965",
   "metadata": {
    "tags": []
   },
   "outputs": [
    {
     "name": "stdout",
     "output_type": "stream",
     "text": [
      "mkdir: cannot create directory ‘merlin_container’: File exists\n",
      "\u001b[1;31mERROR:\u001b[0m (gcloud.beta.artifacts.repositories.create) ALREADY_EXISTS: the repository already exists\n"
     ]
    }
   ],
   "source": [
    "VERSION=23.12 #nvcr.io/nvidia/merlin/merlin-pytorch:23.02\n",
    "REPO_NAME=\"workbench\"\n",
    "REGION=\"us-central1\"\n",
    "PROJECT=\"wortz-project-352116\" # TODO: update with your project_id\n",
    "IMAGE_ID=\"merlin-training\"\n",
    "MERLIN_IMAGE_NAME=f\"{REGION}-docker.pkg.dev/{PROJECT}/{REPO_NAME}/merlin-{IMAGE_ID}-{VERSION}\"\n",
    "\n",
    "MERLIN_CONTAINER=\"merlin_container\"\n",
    "\n",
    "!mkdir {MERLIN_CONTAINER}\n",
    "\n",
    "!gcloud beta artifacts repositories create {REPO_NAME} \\\n",
    "    --repository-format=docker \\\n",
    "    --location=$REGION"
   ]
  },
  {
   "cell_type": "code",
   "execution_count": 2,
   "id": "e140c50a-bcb1-457e-ba29-eb53d1845c4e",
   "metadata": {
    "tags": []
   },
   "outputs": [
    {
     "name": "stdout",
     "output_type": "stream",
     "text": [
      "Updated property [core/project].\n"
     ]
    }
   ],
   "source": [
    "!gcloud config set project $PROJECT"
   ]
  },
  {
   "cell_type": "markdown",
   "id": "555e0982-4f18-4875-83db-684ac1294797",
   "metadata": {},
   "source": [
    "#### Find your service account for you tenant project - usually project_id-compute@developer.gserviceaccount.com"
   ]
  },
  {
   "cell_type": "code",
   "execution_count": 3,
   "id": "c65dd208-f334-4787-b258-3e4f1daf4aa4",
   "metadata": {
    "tags": []
   },
   "outputs": [],
   "source": [
    "# !gcloud projects add-iam-policy-binding hybrid-vertex --member=serviceAccount:xxxxxxxx-compute@developer.gserviceaccount.com --role=roles/artifactregistry.admin"
   ]
  },
  {
   "cell_type": "code",
   "execution_count": 4,
   "id": "d6dd4fc6-7582-4446-9736-7aaca439041d",
   "metadata": {
    "tags": []
   },
   "outputs": [],
   "source": [
    "# !gcloud auth configure-docker us-central1-docker.pkg.dev --quiet"
   ]
  },
  {
   "cell_type": "markdown",
   "id": "3611080d-03c2-4760-8069-c49d10cbd580",
   "metadata": {},
   "source": [
    "### Create Docker image derived from Deeplearning containers"
   ]
  },
  {
   "cell_type": "code",
   "execution_count": 5,
   "id": "044ab9f5-53da-481e-9dec-8475e4ffa265",
   "metadata": {
    "tags": []
   },
   "outputs": [],
   "source": [
    "%%writefile {MERLIN_CONTAINER}/jupyter_notebook_config.py\n",
    "c.NotebookApp.ip = '*'\n",
    "c.NotebookApp.token = ''\n",
    "c.NotebookApp.password = ''\n",
    "c.NotebookApp.open_browser = False\n",
    "c.NotebookApp.port = 8080\n",
    "c.NotebookApp.terminado_settings = {'shell_command': ['/bin/bash']}\n",
    "c.NotebookApp.allow_origin_pat = (\n",
    "'(^https://8080-dot-[0-9]+-dot-devshell\\.appspot\\.com$)|'\n",
    "'(^https://colab\\.research\\.google\\.com$)|'\n",
    "'((https?://)?[0-9a-z]+-dot-(?:us|asia|europe|northamerica|southamerica)-?[0-9a-z]+\\.notebooks\\.googleusercontent.com)')\n",
    "c.NotebookApp.allow_remote_access = True\n",
    "c.NotebookApp.disable_check_xsrf = False"
   ]
  },
  {
   "cell_type": "code",
   "execution_count": 6,
   "id": "6fe56e1a-8514-4f1c-b7ff-545e4cdcf98b",
   "metadata": {
    "tags": []
   },
   "outputs": [
    {
     "name": "stdout",
     "output_type": "stream",
     "text": [
      "Overwriting merlin_container/Dockerfile\n"
     ]
    }
   ],
   "source": [
    "%%writefile {MERLIN_CONTAINER}/Dockerfile\n",
    "FROM nvcr.io/nvidia/merlin/merlin-tensorflow:23.12\n",
    "\n",
    "EXPOSE 8080\n",
    "\n",
    "COPY merlin_container/requirements.txt .\n",
    "\n",
    "COPY merlin_container/jupyter_notebook_config.py /root/.jupyter\n",
    "\n",
    "ENV pwd=\"\"\n",
    "ENTRYPOINT exec jupyter-lab --ip=0.0.0.0 --port=8080 --no-browser --allow-root --ServerApp.allow_origin=\"*\" --NotebookApp.token=\"$pwd\" --NotebookApp.password=\"$pwd\""
   ]
  },
  {
   "cell_type": "code",
   "execution_count": 7,
   "id": "ee523493-e5d5-400c-a821-71289370cd6f",
   "metadata": {
    "tags": []
   },
   "outputs": [
    {
     "name": "stdout",
     "output_type": "stream",
     "text": [
      "/home/jupyter/merlin-gcp\n"
     ]
    }
   ],
   "source": [
    "!pwd"
   ]
  },
  {
   "cell_type": "code",
   "execution_count": 8,
   "id": "6069640d-5e22-417e-b305-92921863c5f1",
   "metadata": {
    "tags": []
   },
   "outputs": [
    {
     "name": "stdout",
     "output_type": "stream",
     "text": [
      "Overwriting merlin_container/requirements.txt\n"
     ]
    }
   ],
   "source": [
    "%%writefile {MERLIN_CONTAINER}/requirements.txt\n",
    "gsutil\n",
    "gcsfs\n",
    "matplotlib"
   ]
  },
  {
   "cell_type": "markdown",
   "id": "59b174f8-1b64-4798-9f94-948873c8cf97",
   "metadata": {},
   "source": [
    "### Quick option for running on cloud build"
   ]
  },
  {
   "cell_type": "code",
   "execution_count": 9,
   "id": "2d6daf3f-8cfa-41a8-b59d-0474aab318c5",
   "metadata": {
    "tags": []
   },
   "outputs": [],
   "source": [
    "# !gcloud builds submit $MERLIN_CONTAINER --dir $MERLIN_CONTAINER -t $MERLIN_IMAGE_NAME\n",
    "# !gcloud push $MERLIN_IMAGE_NAME"
   ]
  },
  {
   "cell_type": "markdown",
   "id": "244331d7-f48b-4d11-9ac2-15e4b504686c",
   "metadata": {},
   "source": [
    "#### Or build locally and push"
   ]
  },
  {
   "cell_type": "code",
   "execution_count": 10,
   "id": "80035d6e-1067-4bb0-8d4f-5df2d970a979",
   "metadata": {
    "collapsed": true,
    "jupyter": {
     "outputs_hidden": true
    },
    "tags": []
   },
   "outputs": [
    {
     "name": "stdout",
     "output_type": "stream",
     "text": [
      "Sending build context to Docker daemon  3.571MB\n",
      "Step 1/6 : FROM nvcr.io/nvidia/merlin/merlin-tensorflow:23.12\n",
      " ---> 7a1aca1855e2\n",
      "Step 2/6 : EXPOSE 8080\n",
      " ---> Using cache\n",
      " ---> 3c4710b6916c\n",
      "Step 3/6 : COPY merlin_container/requirements.txt .\n",
      " ---> Using cache\n",
      " ---> 5254c77a85fd\n",
      "Step 4/6 : COPY merlin_container/jupyter_notebook_config.py /root/.jupyter\n",
      " ---> Using cache\n",
      " ---> 31eb19a0da47\n",
      "Step 5/6 : ENV pwd=\"\"\n",
      " ---> Using cache\n",
      " ---> 0a898a1d9be6\n",
      "Step 6/6 : ENTRYPOINT exec jupyter-lab --ip=0.0.0.0 --port=8080 --no-browser --allow-root --ServerApp.allow_origin=\"*\" --NotebookApp.token=\"$pwd\" --NotebookApp.password=\"$pwd\"\n",
      " ---> Using cache\n",
      " ---> 5a655b382881\n",
      "Successfully built 5a655b382881\n",
      "Successfully tagged us-central1-docker.pkg.dev/wortz-project-352116/workbench/merlin-merlin-training-23.12:latest\n",
      "Using default tag: latest\n",
      "The push refers to repository [us-central1-docker.pkg.dev/wortz-project-352116/workbench/merlin-merlin-training-23.12]\n",
      "\n",
      "\u001b[1Ba6ed31a1: Preparing \n",
      "\u001b[1Bb4e5d75f: Preparing \n",
      "\u001b[1B87e2ddce: Preparing \n",
      "\u001b[1B8d3b7f82: Preparing \n",
      "\u001b[1B5eebbdda: Preparing \n",
      "\u001b[1Bb9d8803c: Preparing \n",
      "\u001b[1B384392b9: Preparing \n",
      "\u001b[1Bef6dea35: Preparing \n",
      "\u001b[1Bef110f07: Preparing \n",
      "\u001b[1B1fd71d1e: Preparing \n",
      "\u001b[1B2321c870: Preparing \n",
      "\u001b[1Ba5e71f6c: Preparing \n",
      "\u001b[1B841ea7fc: Preparing \n",
      "\u001b[1Bc4f03d0b: Preparing \n",
      "\u001b[1B2b93279d: Preparing \n",
      "\u001b[1B1a60a0ca: Preparing \n",
      "\u001b[1B96721710: Preparing \n",
      "\u001b[1B1c11acaa: Preparing \n",
      "\u001b[1B8b0f5bb7: Preparing \n",
      "\u001b[1B2bfc372d: Preparing \n",
      "\u001b[1B6630a41e: Preparing \n",
      "\u001b[1B9522ce66: Preparing \n",
      "\u001b[1B576f975b: Preparing \n",
      "\u001b[1B7a2b941b: Preparing \n",
      "\u001b[1Ba57d950e: Preparing \n",
      "\u001b[1B6e9185ca: Preparing \n",
      "\u001b[1Bd117c5e8: Preparing \n",
      "\u001b[1Bcb00d9a3: Preparing \n",
      "\u001b[1B33008cd3: Preparing \n",
      "\u001b[1Bd8ad34d6: Preparing \n",
      "\u001b[1B08fbcbfd: Preparing \n",
      "\u001b[1B262feeac: Preparing \n",
      "\u001b[1B934a606a: Preparing \n",
      "\u001b[1B618ed33a: Preparing \n",
      "\u001b[1Bfe593ef1: Preparing \n",
      "\u001b[1B27c0fd1b: Preparing \n",
      "\u001b[1Ba4fda6e5: Preparing \n",
      "\u001b[1Bcc48f80d: Preparing \n",
      "\u001b[1B3d273214: Preparing \n",
      "\u001b[1B924f3544: Preparing \n",
      "\u001b[1B09f597dd: Preparing \n",
      "\u001b[1B7d5b9f74: Preparing \n",
      "\u001b[1Ba164ea33: Preparing \n",
      "\u001b[1B165f1fdc: Preparing \n",
      "\u001b[1B458d47d3: Preparing \n",
      "\u001b[1Bee682080: Preparing \n",
      "\u001b[1B532df9ec: Preparing \n",
      "\u001b[1B11c15a2a: Preparing \n",
      "\u001b[1B2cbe15cb: Preparing \n",
      "\u001b[1B021fd54d: Preparing \n",
      "\u001b[1B9a02096e: Preparing \n",
      "\u001b[1B72366ae6: Preparing \n",
      "\u001b[1Be1420e19: Preparing \n",
      "\u001b[1B6419be26: Preparing \n",
      "\u001b[1B361c61c3: Preparing \n",
      "\u001b[1Bec19b0ba: Preparing \n",
      "\u001b[1B9c06a813: Preparing \n",
      "\u001b[1B93e5763f: Preparing \n",
      "\u001b[1Bb43a8e28: Preparing \n",
      "\u001b[1B5c0fae53: Preparing \n",
      "\u001b[1B7d949c42: Preparing \n",
      "\u001b[1Ba1d1289c: Preparing \n",
      "\u001b[1B1aaaa53e: Preparing \n",
      "\u001b[1B957f80e5: Preparing \n",
      "\u001b[1Bb15ff7d6: Preparing \n",
      "\u001b[1B6380eba3: Preparing \n",
      "\u001b[1Bd1ea42aa: Preparing \n",
      "\u001b[1Bd8741664: Preparing \n",
      "\u001b[1B7e96c2d4: Preparing \n",
      "\u001b[1B02dff1aa: Preparing \n",
      "\u001b[1B0859b7f7: Preparing \n",
      "\u001b[1B2d4ca846: Preparing \n",
      "\u001b[1B7e152bd1: Preparing \n",
      "\u001b[69B9d8803c: Waiting g \n",
      "\u001b[1B1301d2bf: Preparing \n",
      "\u001b[70B84392b9: Waiting g \n",
      "\u001b[70Bf6dea35: Waiting g \n",
      "\u001b[70Bf110f07: Waiting g \n",
      "\u001b[1Bfdad04b7: Preparing \n",
      "\u001b[71Bfd71d1e: Waiting g \n",
      "\u001b[1Bcc5afa24: Preparing \n",
      "\u001b[72B321c870: Waiting g \n",
      "\u001b[1B6c04ac63: Preparing \n",
      "\u001b[73B5e71f6c: Waiting g \n",
      "\u001b[65B630a41e: Waiting g \n",
      "\u001b[73B4f03d0b: Waiting g \n",
      "\u001b[1B93603198: Preparing \n",
      "\u001b[1B50d7854e: Preparing \n",
      "\u001b[63B117c5e8: Waiting g \n",
      "\u001b[1B7d78c549: Preparing \n",
      "\u001b[1Bf8b3f477: Preparing \n",
      "\u001b[1Ba16becb5: Preparing \n",
      "\u001b[65B3008cd3: Waiting g \n",
      "\u001b[1Bc7392317: Layer already exists \u001b[94A\u001b[2K\u001b[87A\u001b[2K\u001b[83A\u001b[2K\u001b[80A\u001b[2K\u001b[75A\u001b[2K\u001b[71A\u001b[2K\u001b[68A\u001b[2K\u001b[61A\u001b[2K\u001b[59A\u001b[2K\u001b[53A\u001b[2K\u001b[48A\u001b[2K\u001b[42A\u001b[2K\u001b[37A\u001b[2K\u001b[34A\u001b[2K\u001b[28A\u001b[2K\u001b[20A\u001b[2K\u001b[14A\u001b[2K\u001b[10A\u001b[2K\u001b[6A\u001b[2Klatest: digest: sha256:0f86c038e9e70a1abc0305294ef0ccaedd4aeddb0c9fe530a0569a770c42e1b0 size: 20058\n"
     ]
    }
   ],
   "source": [
    "!docker build . -f $MERLIN_CONTAINER/Dockerfile -t $MERLIN_IMAGE_NAME\n",
    "!docker push $MERLIN_IMAGE_NAME"
   ]
  },
  {
   "cell_type": "markdown",
   "id": "15316fde-3a0b-4f07-862c-de98c3c8913e",
   "metadata": {},
   "source": [
    "# New\n",
    "_____\n",
    "### [Updated instructions from 6.8.24](https://cloud.google.com/vertex-ai/docs/workbench/instances/create-custom-container)\n",
    "\n",
    "#### [Required roles](https://cloud.google.com/vertex-ai/docs/workbench/instances/create-custom-container#permissions)\n",
    "To ensure that your user account has the necessary permissions to create a Vertex AI Workbench instance, ask your administrator to grant your user account the Notebooks Runner (roles/notebooks.runner) IAM role on the project. For more information about granting roles, see Manage access.\n",
    "\n",
    "Your administrator might also be able to give your user account the required permissions through custom roles or other predefined roles."
   ]
  },
  {
   "cell_type": "code",
   "execution_count": 11,
   "id": "bce2b085-3982-4d1e-ae2e-127108dfa177",
   "metadata": {
    "tags": []
   },
   "outputs": [],
   "source": [
    "INSTANCE_NAME = 'hybrid-merlin-workbench'"
   ]
  },
  {
   "cell_type": "code",
   "execution_count": 12,
   "id": "fd961dee-604d-4322-8172-741f18bf9eee",
   "metadata": {
    "tags": []
   },
   "outputs": [
    {
     "name": "stdout",
     "output_type": "stream",
     "text": [
      "\u001b[1;31mERROR:\u001b[0m (gcloud.projects.add-iam-policy-binding) User [679926387543-compute@developer.gserviceaccount.com] does not have permission to access projects instance [wortz-project-352116:getIamPolicy] (or it may not exist): The caller does not have permission\n"
     ]
    }
   ],
   "source": [
    "##### One time permissions\n",
    "! gcloud projects add-iam-policy-binding $PROJECT \\\n",
    "    --member=serviceAccount:$PROJECT-compute@developer.gserviceaccount.com \\\n",
    "    --role=roles/notebooks.runner"
   ]
  },
  {
   "cell_type": "code",
   "execution_count": 13,
   "id": "b8fe66a9-f4d4-4e5d-b5bb-6fbae7309820",
   "metadata": {
    "tags": []
   },
   "outputs": [
    {
     "name": "stdout",
     "output_type": "stream",
     "text": [
      "Waiting for operation on Instance [hybrid-merlin-workbench] to be created with \n",
      "[projects/wortz-project-352116/locations/us-central1-b/operations/operation-171\n",
      "8663469672-61b1d8599267d-06fc42d5-45f93865]...done.                            \n",
      "Created workbench instance hybrid-merlin-workbench [https://notebooks.googleapis.com/v2/projects/wortz-project-352116/locations/us-central1-b/operations/operation-1718663469672-61b1d8599267d-06fc42d5-45f93865].\n"
     ]
    }
   ],
   "source": [
    "! gcloud workbench instances create $INSTANCE_NAME \\\n",
    "    --project=$PROJECT \\\n",
    "    --location=$REGION-b \\\n",
    "    --container-repository=$MERLIN_IMAGE_NAME \\\n",
    "    --container-tag=latest \\\n",
    "    --machine-type=n1-standard-2 \\\n",
    "    --accelerator-type=NVIDIA_TESLA_T4 \\\n",
    "    --accelerator-core-count=1"
   ]
  },
  {
   "cell_type": "markdown",
   "id": "f2c6e2ce-f3be-4bb5-954d-d21600b7f138",
   "metadata": {},
   "source": [
    "#### You should be able to start up the workbench and follow the [example](https://nvidia-merlin.github.io/Merlin/stable/examples/getting-started-movielens/01-Download-Convert.html)\n",
    "\n",
    "\n",
    "```python\n",
    "# External dependencies\n",
    "import os\n",
    "\n",
    "from merlin.core.utils import download_file\n",
    "\n",
    "# Get dataframe library - cudf or pandas\n",
    "from merlin.core.dispatch import get_lib\n",
    "df_lib = get_lib()\n",
    "```"
   ]
  }
 ],
 "metadata": {
  "environment": {
   "kernel": "conda-base-py",
   "name": "workbench-notebooks.m120",
   "type": "gcloud",
   "uri": "us-docker.pkg.dev/deeplearning-platform-release/gcr.io/workbench-notebooks:m120"
  },
  "kernelspec": {
   "display_name": "Python 3 (ipykernel) (Local)",
   "language": "python",
   "name": "conda-base-py"
  },
  "language_info": {
   "codemirror_mode": {
    "name": "ipython",
    "version": 3
   },
   "file_extension": ".py",
   "mimetype": "text/x-python",
   "name": "python",
   "nbconvert_exporter": "python",
   "pygments_lexer": "ipython3",
   "version": "3.10.14"
  }
 },
 "nbformat": 4,
 "nbformat_minor": 5
}
